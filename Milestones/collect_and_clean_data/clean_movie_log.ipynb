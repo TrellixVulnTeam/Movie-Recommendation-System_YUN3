{
 "metadata": {
  "language_info": {
   "codemirror_mode": {
    "name": "ipython",
    "version": 3
   },
   "file_extension": ".py",
   "mimetype": "text/x-python",
   "name": "python",
   "nbconvert_exporter": "python",
   "pygments_lexer": "ipython3",
   "version": "3.8.0-final"
  },
  "orig_nbformat": 2,
  "kernelspec": {
   "name": "python_defaultSpec_1600627967815",
   "display_name": "Python 3.8.0 64-bit ('venv': venv)"
  }
 },
 "nbformat": 4,
 "nbformat_minor": 2,
 "cells": [
  {
   "source": [
    "# Data Cleaning\n",
    "### This notebook cleans and reorganzie the logs in data_collection/records.txt using spark. \n",
    "### This produces \n",
    "#### a. Two folders - userRating and userWatchLength, each containing a set of partition files about the users' ratings and users' watch history, a.k.a the time users spend on each movie <br>\n",
    "#### b. Two files -  users.txt and movies.txt, containing user IDs and movie IDs that occurred in the past history."
   ],
   "cell_type": "markdown",
   "metadata": {}
  },
  {
   "source": [
    "### Create spark context and read in the records.txt"
   ],
   "cell_type": "markdown",
   "metadata": {}
  },
  {
   "cell_type": "code",
   "execution_count": null,
   "metadata": {
    "tags": []
   },
   "outputs": [],
   "source": [
    "import findspark\n",
    "findspark.init()\n",
    "import pyspark\n",
    "from pyspark.sql import SQLContext\n",
    "sc = pyspark.SparkContext(appName=\"hw\")\n",
    "sqlContext = SQLContext(sc)\n",
    "\n",
    "print(\"Spark context started\")"
   ]
  },
  {
   "source": [
    "recordsRDD = sc.textFile('records.txt')"
   ],
   "cell_type": "code",
   "metadata": {},
   "execution_count": null,
   "outputs": []
  },
  {
   "cell_type": "code",
   "execution_count": null,
   "metadata": {},
   "outputs": [],
   "source": [
    "recordsRDD.count()"
   ]
  },
  {
   "source": [
    "### Separate different types of messages"
   ],
   "cell_type": "markdown",
   "metadata": {}
  },
  {
   "cell_type": "code",
   "execution_count": null,
   "metadata": {},
   "outputs": [],
   "source": [
    "watchRDD = recordsRDD.filter(lambda rec: '/data/m' in rec)\n",
    "ratingRDD = recordsRDD.filter(lambda rec: '/rate/' in rec)\n",
    "recommendRDD = recordsRDD.filter(lambda rec: 'recommendation' in rec)"
   ]
  },
  {
   "cell_type": "code",
   "execution_count": null,
   "metadata": {},
   "outputs": [],
   "source": [
    "watchRDD.count()"
   ]
  },
  {
   "cell_type": "code",
   "execution_count": null,
   "metadata": {},
   "outputs": [],
   "source": [
    "ratingRDD.count()"
   ]
  },
  {
   "cell_type": "code",
   "execution_count": null,
   "metadata": {},
   "outputs": [],
   "source": [
    "recommendRDD.count()"
   ]
  },
  {
   "source": [
    "### Parse users' watch history"
   ],
   "cell_type": "markdown",
   "metadata": {}
  },
  {
   "cell_type": "code",
   "execution_count": null,
   "metadata": {},
   "outputs": [],
   "source": [
    "watchListRDD = watchRDD.map(lambda rec: rec.split(','))"
   ]
  },
  {
   "cell_type": "code",
   "execution_count": null,
   "metadata": {},
   "outputs": [],
   "source": [
    "watchPairRDD = watchListRDD.map(lambda lst: (lst[1], lst[2].split('/')))"
   ]
  },
  {
   "cell_type": "code",
   "execution_count": null,
   "metadata": {},
   "outputs": [],
   "source": [
    "userMoviePairRDD = watchPairRDD.map(lambda tup: ((tup[0], tup[1][3]), tup[1][4])).groupByKey().mapValues(list)"
   ]
  },
  {
   "cell_type": "code",
   "execution_count": null,
   "metadata": {},
   "outputs": [],
   "source": [
    "userMoviePairRDD = userMoviePairRDD.map(lambda tup: (tup[0], tup[1][-1]))"
   ]
  },
  {
   "cell_type": "code",
   "execution_count": null,
   "metadata": {},
   "outputs": [],
   "source": [
    "import re\n",
    "userMoviePairRDD = userMoviePairRDD.mapValues(lambda v: int(re.sub('[^0-9]', '', v)))"
   ]
  },
  {
   "cell_type": "code",
   "execution_count": null,
   "metadata": {},
   "outputs": [],
   "source": [
    "userMoviePairRDD.take(5)"
   ]
  },
  {
   "cell_type": "code",
   "execution_count": null,
   "metadata": {},
   "outputs": [],
   "source": [
    "userMoviePairRDD.saveAsTextFile('KafkaData/userWatchLength')"
   ]
  },
  {
   "source": [
    "### Parse users' ratings"
   ],
   "cell_type": "markdown",
   "metadata": {}
  },
  {
   "cell_type": "code",
   "execution_count": null,
   "metadata": {},
   "outputs": [],
   "source": [
    "ratingListRDD = ratingRDD.map(lambda rec: rec.split(','))\n",
    "ratingPairRDD = ratingListRDD.map(lambda lst: (lst[1], lst[2].split('/')))"
   ]
  },
  {
   "cell_type": "code",
   "execution_count": null,
   "metadata": {},
   "outputs": [],
   "source": [
    "userRatingRDD = ratingPairRDD.map(lambda tup: (tup[0], tup[1][2].split('=')))"
   ]
  },
  {
   "cell_type": "code",
   "execution_count": null,
   "metadata": {},
   "outputs": [],
   "source": [
    "userRatingPairRDD = userRatingRDD.map(lambda tup: ((tup[0], tup[1][0]), tup[1][1]))"
   ]
  },
  {
   "cell_type": "code",
   "execution_count": null,
   "metadata": {},
   "outputs": [],
   "source": [
    "userRatingPairRDD.take(5)"
   ]
  },
  {
   "cell_type": "code",
   "execution_count": null,
   "metadata": {},
   "outputs": [],
   "source": [
    "userRatingPairRDD.saveAsTextFile('Kafka/userRating')"
   ]
  },
  {
   "source": [
    "### Get all users IDs and movie IDs"
   ],
   "cell_type": "markdown",
   "metadata": {}
  },
  {
   "cell_type": "code",
   "execution_count": null,
   "metadata": {},
   "outputs": [],
   "source": [
    "usersRDD = recordsRDD.map(lambda rec: rec.split(',')[1]).distinct().filter(lambda s: s.isdigit())"
   ]
  },
  {
   "cell_type": "code",
   "execution_count": null,
   "metadata": {},
   "outputs": [],
   "source": [
    "usersRDD.count()"
   ]
  },
  {
   "cell_type": "code",
   "execution_count": null,
   "metadata": {},
   "outputs": [],
   "source": [
    "usersRDD.take(5)"
   ]
  },
  {
   "cell_type": "code",
   "execution_count": null,
   "metadata": {},
   "outputs": [],
   "source": [
    "allUsers = sorted(usersRDD.collect())\n",
    "with open('users.txt', 'w') as file:\n",
    "    for user in allUsers:\n",
    "        file.writelines(user + '\\n')"
   ]
  },
  {
   "cell_type": "code",
   "execution_count": null,
   "metadata": {},
   "outputs": [],
   "source": [
    "watchedMovie = userMoviePairRDD.map(lambda tup: tup[0][1]).distinct()\n",
    "ratedMovie = userRatingPairRDD.map(lambda tup: tup[0][1]).distinct()"
   ]
  },
  {
   "cell_type": "code",
   "execution_count": null,
   "metadata": {},
   "outputs": [],
   "source": [
    "allMoviesRDD = watchedMovie.union(ratedMovie).distinct()"
   ]
  },
  {
   "cell_type": "code",
   "execution_count": null,
   "metadata": {},
   "outputs": [],
   "source": [
    "allMoviesRDD.take(5)"
   ]
  },
  {
   "cell_type": "code",
   "execution_count": null,
   "metadata": {},
   "outputs": [],
   "source": [
    "allMovies = allMoviesRDD.collect()\n",
    "with open('movies.txt', 'w') as file:\n",
    "    for movie in allMovies:\n",
    "        file.write(movie + '\\n')"
   ]
  },
  {
   "cell_type": "code",
   "execution_count": null,
   "metadata": {},
   "outputs": [],
   "source": [
    "allMoviesRDD.count()"
   ]
  }
 ]
}